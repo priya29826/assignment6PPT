{
  "nbformat": 4,
  "nbformat_minor": 0,
  "metadata": {
    "colab": {
      "provenance": []
    },
    "kernelspec": {
      "name": "python3",
      "display_name": "Python 3"
    },
    "language_info": {
      "name": "python"
    }
  },
  "cells": [
    {
      "cell_type": "markdown",
      "source": [
        "<aside>\n",
        "💡 **Question 1**\n",
        "\n",
        "A permutation perm of n + 1 integers of all the integers in the range [0, n] can be represented as a string s of length n where:\n",
        "\n",
        "- s[i] == 'I' if perm[i] < perm[i + 1], and\n",
        "- s[i] == 'D' if perm[i] > perm[i + 1].\n",
        "\n",
        "Given a string s, reconstruct the permutation perm and return it. If there are multiple valid permutations perm, return **any of them**.\n",
        "\n",
        "**Example 1:**\n",
        "\n",
        "**Input:** s = \"IDID\"\n",
        "\n",
        "**Output:**\n",
        "\n",
        "[0,4,1,3,2]\n",
        "\n",
        "</aside>"
      ],
      "metadata": {
        "id": "-3JeiqXjeO6u"
      }
    },
    {
      "cell_type": "code",
      "source": [
        "def reconstruct_permutation(s):\n",
        "  n=len(s)\n",
        "  perm=[]\n",
        "  start=0\n",
        "  end=n\n",
        "  for c in s:\n",
        "    if c==\"I\":\n",
        "      perm.append(start)\n",
        "      start+=1\n",
        "    elif c==\"D\":\n",
        "      perm.append(end)\n",
        "      end-=1\n",
        "  perm.append(start)\n",
        "  return perm\n",
        "\n",
        "s = \"IDID\"\n",
        "reconstruct_permutation(s)\n",
        "print(reconstruct_permutation(s))\n"
      ],
      "metadata": {
        "colab": {
          "base_uri": "https://localhost:8080/"
        },
        "id": "31_bGTRoeS_a",
        "outputId": "1e0abee3-6a4f-4136-bedb-65bdb880097c"
      },
      "execution_count": 3,
      "outputs": [
        {
          "output_type": "stream",
          "name": "stdout",
          "text": [
            "[0, 4, 1, 3, 2]\n"
          ]
        }
      ]
    },
    {
      "cell_type": "markdown",
      "source": [
        "<aside>\n",
        "💡 **Question 4**\n",
        "\n",
        "Given a binary array nums, return *the maximum length of a contiguous subarray with an equal number of* 0 *and* 1.\n",
        "\n",
        "**Example 1:**\n",
        "\n",
        "**Input:** nums = [0,1]\n",
        "\n",
        "**Output:** 2\n",
        "\n",
        "**Explanation:**\n",
        "\n",
        "[0, 1] is the longest contiguous subarray with an equal number of 0 and 1.\n",
        "\n",
        "</aside>"
      ],
      "metadata": {
        "id": "Fqt_vEsPgSc5"
      }
    },
    {
      "cell_type": "code",
      "source": [
        "def findMaxLength(nums):\n",
        "  maxLen=0\n",
        "  count=0\n",
        "  prefixSum={0:-1}\n",
        "  for i in range(len(nums)):\n",
        "    if nums[i]==0:\n",
        "      count-=1\n",
        "    else:\n",
        "      count+=1\n",
        "    if count in prefixSum:\n",
        "      maxLen=max(maxLen,i-prefixSum[count])\n",
        "    else:\n",
        "      prefixSum[count]=1\n",
        "  return maxLen\n",
        "\n",
        "nums = [0,1]\n",
        "findMaxLength(nums)\n",
        "print(findMaxLength(nums))\n"
      ],
      "metadata": {
        "colab": {
          "base_uri": "https://localhost:8080/"
        },
        "id": "tEOSJYC_gBRb",
        "outputId": "8e411a5f-26a7-4126-ad9e-c178fe480362"
      },
      "execution_count": 28,
      "outputs": [
        {
          "output_type": "stream",
          "name": "stdout",
          "text": [
            "2\n"
          ]
        }
      ]
    },
    {
      "cell_type": "markdown",
      "source": [
        "<aside>\n",
        "💡 **Question 5**\n",
        "\n",
        "The **product sum** of two equal-length arrays a and b is equal to the sum of a[i] * b[i] for all 0 <= i < a.length (**0-indexed**).\n",
        "\n",
        "- For example, if a = [1,2,3,4] and b = [5,2,3,1], the **product sum** would be 1*5 + 2*2 + 3*3 + 4*1 = 22.\n",
        "\n",
        "Given two arrays nums1 and nums2 of length n, return *the **minimum product sum** if you are allowed to **rearrange** the **order** of the elements in* nums1.\n",
        "\n",
        "**Example 1:**\n",
        "\n",
        "**Input:** nums1 = [5,3,4,2], nums2 = [4,2,2,5]\n",
        "\n",
        "**Output:** 40\n",
        "\n",
        "**Explanation:**\n",
        "\n",
        "We can rearrange nums1 to become [3,5,4,2]. The product sum of [3,5,4,2] and [4,2,2,5] is 3*4 + 5*2 + 4*2 + 2*5 = 40.\n",
        "\n",
        "</aside>"
      ],
      "metadata": {
        "id": "_ZmKH_y9ytdy"
      }
    },
    {
      "cell_type": "code",
      "source": [
        "def minProductSum(nums1,nums2):\n",
        "  nums1.sort()\n",
        "  nums.sort(reverse=True)\n",
        "  result=0\n",
        "  for i in range(len(nums1)):\n",
        "    result+=nums1[i]*nums2[i]\n",
        "  return result\n",
        "\n",
        "\n"
      ],
      "metadata": {
        "id": "AqN01Bway0k-"
      },
      "execution_count": 25,
      "outputs": []
    },
    {
      "cell_type": "code",
      "source": [
        "nums1 = [5,3,4,2]\n",
        "nums2 = [4,2,2,5]\n",
        "print(minProductSum(nums1,nums2))"
      ],
      "metadata": {
        "colab": {
          "base_uri": "https://localhost:8080/"
        },
        "id": "ki0CL2c70McL",
        "outputId": "e038d0c6-da1d-4f69-b6c8-468d10b9facc"
      },
      "execution_count": 29,
      "outputs": [
        {
          "output_type": "stream",
          "name": "stdout",
          "text": [
            "47\n"
          ]
        }
      ]
    },
    {
      "cell_type": "markdown",
      "source": [
        "<aside>\n",
        "💡 **Question 6**\n",
        "\n",
        "An integer array original is transformed into a **doubled** array changed by appending **twice the value** of every element in original, and then randomly **shuffling** the resulting array.\n",
        "\n",
        "Given an array changed, return original *if* changed *is a **doubled** array. If* changed *is not a **doubled** array, return an empty array. The elements in* original *may be returned in **any** order*.\n",
        "\n",
        "**Example 1:**\n",
        "\n",
        "**Input:** changed = [1,3,4,2,6,8]\n",
        "\n",
        "**Output:** [1,3,4]\n",
        "\n",
        "**Explanation:** One possible original array could be [1,3,4]:\n",
        "\n",
        "- Twice the value of 1 is 1 * 2 = 2.\n",
        "- Twice the value of 3 is 3 * 2 = 6.\n",
        "- Twice the value of 4 is 4 * 2 = 8.\n",
        "\n",
        "Other original arrays could be [4,3,1] or [3,1,4].\n",
        "\n",
        "</aside>"
      ],
      "metadata": {
        "id": "w-Qzok88t_XU"
      }
    },
    {
      "cell_type": "code",
      "source": [
        "def findOriginalArray(changed):\n",
        "  if len(changed)%2!=0:\n",
        "    return[]\n",
        "\n",
        "  changed.sort()\n",
        "  \n",
        "\n",
        "  original=[]\n",
        "  used=set()\n",
        "\n",
        "\n",
        "  for num in changed:\n",
        "    half=num//2\n",
        "    if half in used:\n",
        "      original.append(half)\n",
        "      used.remove(half)\n",
        "    else:\n",
        "      used.add(num)\n",
        "  if len(used)==0:\n",
        "    return original\n",
        "\n",
        "  return[]\n",
        "\n",
        "  \n"
      ],
      "metadata": {
        "id": "bHj02aL9jpXC"
      },
      "execution_count": 11,
      "outputs": []
    },
    {
      "cell_type": "code",
      "source": [
        "  changed= [1,3,4,2,6,8]\n",
        "  findOriginalArray(changed)\n",
        "  print(findOriginalArray(changed))"
      ],
      "metadata": {
        "colab": {
          "base_uri": "https://localhost:8080/"
        },
        "id": "1i394degwW41",
        "outputId": "6cf2a254-77ad-448e-90ca-bdacc53edec8"
      },
      "execution_count": 12,
      "outputs": [
        {
          "output_type": "stream",
          "name": "stdout",
          "text": [
            "[1, 3, 4]\n"
          ]
        }
      ]
    },
    {
      "cell_type": "code",
      "source": [],
      "metadata": {
        "id": "OJMuIrE7yYtG"
      },
      "execution_count": null,
      "outputs": []
    }
  ]
}